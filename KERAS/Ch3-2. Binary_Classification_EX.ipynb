{
 "cells": [
  {
   "cell_type": "markdown",
   "metadata": {},
   "source": [
    "* IMDB dataset을 이용한 영화 리뷰 분류"
   ]
  },
  {
   "cell_type": "code",
   "execution_count": 2,
   "metadata": {},
   "outputs": [],
   "source": [
    "from keras.datasets import imdb\n",
    "\n",
    "from keras import models\n",
    "from keras import layers\n",
    "\n",
    "import numpy as np\n",
    "import matplotlib.pyplot as plt"
   ]
  },
  {
   "cell_type": "code",
   "execution_count": 3,
   "metadata": {},
   "outputs": [],
   "source": [
    "(train_data, train_labels), (test_data, test_labels) = imdb.load_data(num_words=10000)"
   ]
  },
  {
   "cell_type": "markdown",
   "metadata": {},
   "source": [
    "* import data from data sets\n",
    "* 아래는 데이터 형태를 출력한 것이며, 첫 번째 리뷰 하나를 영어로 변환하여 출력하였다."
   ]
  },
  {
   "cell_type": "code",
   "execution_count": 4,
   "metadata": {},
   "outputs": [
    {
     "name": "stdout",
     "output_type": "stream",
     "text": [
      "[1, 14, 22, 16, 43, 530, 973, 1622, 1385, 65, 458, 4468, 66, 3941, 4, 173, 36, 256, 5, 25, 100, 43, 838, 112, 50, 670, 2, 9, 35, 480, 284, 5, 150, 4, 172, 112, 167, 2, 336, 385, 39, 4, 172, 4536, 1111, 17, 546, 38, 13, 447, 4, 192, 50, 16, 6, 147, 2025, 19, 14, 22, 4, 1920, 4613, 469, 4, 22, 71, 87, 12, 16, 43, 530, 38, 76, 15, 13, 1247, 4, 22, 17, 515, 17, 12, 16, 626, 18, 2, 5, 62, 386, 12, 8, 316, 8, 106, 5, 4, 2223, 5244, 16, 480, 66, 3785, 33, 4, 130, 12, 16, 38, 619, 5, 25, 124, 51, 36, 135, 48, 25, 1415, 33, 6, 22, 12, 215, 28, 77, 52, 5, 14, 407, 16, 82, 2, 8, 4, 107, 117, 5952, 15, 256, 4, 2, 7, 3766, 5, 723, 36, 71, 43, 530, 476, 26, 400, 317, 46, 7, 4, 2, 1029, 13, 104, 88, 4, 381, 15, 297, 98, 32, 2071, 56, 26, 141, 6, 194, 7486, 18, 4, 226, 22, 21, 134, 476, 26, 480, 5, 144, 30, 5535, 18, 51, 36, 28, 224, 92, 25, 104, 4, 226, 65, 16, 38, 1334, 88, 12, 16, 283, 5, 16, 4472, 113, 103, 32, 15, 16, 5345, 19, 178, 32]\n",
      "1\n",
      "? this film was just brilliant casting location scenery story direction everyone's really suited the part they played and you could just imagine being there robert ? is an amazing actor and now the same being director ? father came from the same scottish island as myself so i loved the fact there was a real connection with this film the witty remarks throughout the film were great it was just brilliant so much that i bought the film as soon as it was released for ? and would recommend it to everyone to watch and the fly fishing was amazing really cried at the end it was so sad and you know what they say if you cry at a film it must have been good and this definitely was also ? to the two little boy's that played the ? of norman and paul they were just brilliant children are often left out of the ? list i think because the stars that play them all grown up are such a big profile for the whole film but these children are amazing and should be praised for what they have done don't you think the whole story was so lovely because it was true and was someone's life after all that was shared with us all\n"
     ]
    }
   ],
   "source": [
    "print(train_data[0])\n",
    "print(train_labels[0])\n",
    "\n",
    "word_idx = imdb.get_word_index()\n",
    "reverse_word_idx = dict(\n",
    "[(value, key) for (key, value) in word_idx.items()])\n",
    "decoded_review = ' '.join([reverse_word_idx.get(i - 3, '?') for i in train_data[0]])\n",
    "print(decoded_review)"
   ]
  },
  {
   "cell_type": "markdown",
   "metadata": {},
   "source": [
    "* 정수 시퀀스를 이진 행렬로 인코딩\n",
    "> * 리스트를 one-hot encoding 하여 0과 1의 벡터로 변환\n",
    "> * 부동 소수 벡터 데이터를 다룰 수 있는 Dense 층을 신경망의 첫 번째 층으로 사용"
   ]
  },
  {
   "cell_type": "code",
   "execution_count": 5,
   "metadata": {},
   "outputs": [
    {
     "name": "stdout",
     "output_type": "stream",
     "text": [
      "[0. 1. 1. ... 0. 0. 0.]\n"
     ]
    }
   ],
   "source": [
    "def vectorize_sequences(sequences, dimension=10000):\n",
    "    results = np.zeros((len(sequences), dimension))\n",
    "    for i, sequences in enumerate(sequences):\n",
    "        results[i, sequences] = 1.\n",
    "    return results\n",
    "\n",
    "x_train = vectorize_sequences(train_data)\n",
    "x_test = vectorize_sequences(test_data)\n",
    "\n",
    "print(x_train[0])\n",
    "\n",
    "# label\n",
    "y_train = np.asarray(train_labels).astype('float32')\n",
    "y_test = np.asarray(test_labels).astype('float32')"
   ]
  },
  {
   "cell_type": "code",
   "execution_count": 6,
   "metadata": {},
   "outputs": [
    {
     "name": "stdout",
     "output_type": "stream",
     "text": [
      "WARNING:tensorflow:From /Users/jmmmmuu/tensorflow/lib/python3.7/site-packages/tensorflow/python/framework/op_def_library.py:263: colocate_with (from tensorflow.python.framework.ops) is deprecated and will be removed in a future version.\n",
      "Instructions for updating:\n",
      "Colocations handled automatically by placer.\n"
     ]
    }
   ],
   "source": [
    "# build model\n",
    "\n",
    "model = models.Sequential()\n",
    "model.add(layers.Dense(16, activation='relu', input_shape=(10000,)))\n",
    "model.add(layers.Dense(16, activation='relu'))\n",
    "model.add(layers.Dense(1, activation='sigmoid'))"
   ]
  },
  {
   "cell_type": "markdown",
   "metadata": {},
   "source": [
    "* Hidden layer: 2\n",
    "* Hidden unint: 16, 16\n",
    "* output: 1"
   ]
  },
  {
   "cell_type": "markdown",
   "metadata": {},
   "source": [
    "* **활성화 함수가 없다면**\n",
    "> Dense에서 output = dot(W, input) + b  \n",
    "> 이 층은 입력에 대한 선형 변환(아핀 변환)만 학습 가능  \n",
    "> **층을 추가해도 가설 공간이 확장되지 않음** (층을 쌓는 장점이 없다)  "
   ]
  },
  {
   "cell_type": "code",
   "execution_count": 7,
   "metadata": {},
   "outputs": [],
   "source": [
    "# loss function & optimizer\n",
    "\n",
    "model.compile(optimizer = 'rmsprop',\n",
    "             loss = 'binary_crossentropy',\n",
    "             metrics = ['accuracy'])"
   ]
  },
  {
   "cell_type": "markdown",
   "metadata": {},
   "source": [
    "* 확률 출력 모델에선 cross entropy가 적합!\n",
    "* 회귀 문제에서는 MSE"
   ]
  },
  {
   "cell_type": "code",
   "execution_count": 8,
   "metadata": {},
   "outputs": [],
   "source": [
    "from keras import optimizers\n",
    "from keras import losses\n",
    "from keras import metrics\n",
    "\n",
    "model.compile(optimizer=optimizers.RMSprop(lr=0.001),\n",
    "             loss=losses.binary_crossentropy,\n",
    "             metrics=[metrics.binary_accuracy])"
   ]
  },
  {
   "cell_type": "code",
   "execution_count": 9,
   "metadata": {},
   "outputs": [],
   "source": [
    "# Validate training\n",
    "\n",
    "x_val = x_train[:10000]\n",
    "partial_x_train = x_train[10000:]\n",
    "y_val = y_train[:10000]\n",
    "partial_y_train = y_train[10000:]"
   ]
  },
  {
   "cell_type": "markdown",
   "metadata": {},
   "source": [
    "* 512개의 sample씩 mini-batch를 만들어 20 epochs만큼 훈련"
   ]
  },
  {
   "cell_type": "code",
   "execution_count": 10,
   "metadata": {},
   "outputs": [
    {
     "name": "stdout",
     "output_type": "stream",
     "text": [
      "WARNING:tensorflow:From /Users/jmmmmuu/tensorflow/lib/python3.7/site-packages/tensorflow/python/ops/math_ops.py:3066: to_int32 (from tensorflow.python.ops.math_ops) is deprecated and will be removed in a future version.\n",
      "Instructions for updating:\n",
      "Use tf.cast instead.\n",
      "Train on 15000 samples, validate on 10000 samples\n",
      "Epoch 1/20\n",
      "15000/15000 [==============================] - 3s 190us/step - loss: 0.5083 - acc: 0.7819 - val_loss: 0.3789 - val_acc: 0.8697\n",
      "Epoch 2/20\n",
      "15000/15000 [==============================] - 2s 156us/step - loss: 0.3002 - acc: 0.9046 - val_loss: 0.3001 - val_acc: 0.8896\n",
      "Epoch 3/20\n",
      "15000/15000 [==============================] - 2s 154us/step - loss: 0.2178 - acc: 0.9280 - val_loss: 0.3086 - val_acc: 0.8712\n",
      "Epoch 4/20\n",
      "15000/15000 [==============================] - 2s 154us/step - loss: 0.1750 - acc: 0.9438 - val_loss: 0.2839 - val_acc: 0.8838\n",
      "Epoch 5/20\n",
      "15000/15000 [==============================] - 2s 153us/step - loss: 0.1426 - acc: 0.9543 - val_loss: 0.2848 - val_acc: 0.8866\n",
      "Epoch 6/20\n",
      "15000/15000 [==============================] - 2s 152us/step - loss: 0.1150 - acc: 0.9652 - val_loss: 0.3143 - val_acc: 0.8776\n",
      "Epoch 7/20\n",
      "15000/15000 [==============================] - 2s 153us/step - loss: 0.0979 - acc: 0.9707 - val_loss: 0.3129 - val_acc: 0.8846\n",
      "Epoch 8/20\n",
      "15000/15000 [==============================] - 2s 153us/step - loss: 0.0807 - acc: 0.9763 - val_loss: 0.3859 - val_acc: 0.8653\n",
      "Epoch 9/20\n",
      "15000/15000 [==============================] - 2s 152us/step - loss: 0.0660 - acc: 0.9822 - val_loss: 0.3634 - val_acc: 0.8781\n",
      "Epoch 10/20\n",
      "15000/15000 [==============================] - 2s 151us/step - loss: 0.0554 - acc: 0.9853 - val_loss: 0.3844 - val_acc: 0.8794\n",
      "Epoch 11/20\n",
      "15000/15000 [==============================] - 2s 152us/step - loss: 0.0455 - acc: 0.9887 - val_loss: 0.4170 - val_acc: 0.8764\n",
      "Epoch 12/20\n",
      "15000/15000 [==============================] - 2s 152us/step - loss: 0.0385 - acc: 0.9915 - val_loss: 0.4506 - val_acc: 0.8699\n",
      "Epoch 13/20\n",
      "15000/15000 [==============================] - 2s 152us/step - loss: 0.0297 - acc: 0.9932 - val_loss: 0.4697 - val_acc: 0.8730\n",
      "Epoch 14/20\n",
      "15000/15000 [==============================] - 2s 152us/step - loss: 0.0244 - acc: 0.9949 - val_loss: 0.5023 - val_acc: 0.8717\n",
      "Epoch 15/20\n",
      "15000/15000 [==============================] - 2s 151us/step - loss: 0.0177 - acc: 0.9977 - val_loss: 0.5362 - val_acc: 0.8696\n",
      "Epoch 16/20\n",
      "15000/15000 [==============================] - 2s 152us/step - loss: 0.0170 - acc: 0.9969 - val_loss: 0.5717 - val_acc: 0.8700\n",
      "Epoch 17/20\n",
      "15000/15000 [==============================] - 2s 151us/step - loss: 0.0093 - acc: 0.9995 - val_loss: 0.6221 - val_acc: 0.8635\n",
      "Epoch 18/20\n",
      "15000/15000 [==============================] - 2s 152us/step - loss: 0.0113 - acc: 0.9975 - val_loss: 0.6388 - val_acc: 0.8669\n",
      "Epoch 19/20\n",
      "15000/15000 [==============================] - 2s 153us/step - loss: 0.0109 - acc: 0.9977 - val_loss: 0.6775 - val_acc: 0.8659\n",
      "Epoch 20/20\n",
      "15000/15000 [==============================] - 2s 152us/step - loss: 0.0041 - acc: 0.9999 - val_loss: 0.6922 - val_acc: 0.8662\n"
     ]
    }
   ],
   "source": [
    "model.compile(optimizer='rmsprop',\n",
    "             loss='binary_crossentropy',\n",
    "             metrics=['acc'])\n",
    "\n",
    "history = model.fit(partial_x_train,\n",
    "                   partial_y_train,\n",
    "                   epochs=20,\n",
    "                   batch_size=512,\n",
    "                   validation_data=(x_val, y_val))"
   ]
  },
  {
   "cell_type": "markdown",
   "metadata": {},
   "source": [
    "* model.fit() method는 history 객체 반환\n",
    "* 이 객체는 훈련하는 동안 발생한 모든 정보를 담고있는 딕셔너리 history 속성을 갖는다"
   ]
  },
  {
   "cell_type": "code",
   "execution_count": 11,
   "metadata": {},
   "outputs": [
    {
     "data": {
      "text/plain": [
       "dict_keys(['val_loss', 'val_acc', 'loss', 'acc'])"
      ]
     },
     "execution_count": 11,
     "metadata": {},
     "output_type": "execute_result"
    }
   ],
   "source": [
    "history_dict = history.history\n",
    "history_dict.keys()"
   ]
  },
  {
   "cell_type": "code",
   "execution_count": 12,
   "metadata": {},
   "outputs": [
    {
     "data": {
      "image/png": "[encoded data removed]",
      "text/plain": [
       "<Figure size 432x288 with 1 Axes>"
      ]
     },
     "metadata": {},
     "output_type": "display_data"
    }
   ],
   "source": [
    "# draw training & validation loss\n",
    "\n",
    "loss = history_dict['loss']\n",
    "val_loss = history_dict['val_loss']\n",
    "\n",
    "epochs = range(1, len(loss) + 1)\n",
    "\n",
    "plt.plot(epochs, loss, 'bo', label='Training Loss')\n",
    "plt.plot(epochs, val_loss, 'b', label='Validation Loss')\n",
    "plt.title('Training and Validation Loss')\n",
    "plt.xlabel('Epochs')\n",
    "plt.ylabel('Loss')\n",
    "plt.legend()\n",
    "\n",
    "plt.show()"
   ]
  },
  {
   "cell_type": "code",
   "execution_count": 13,
   "metadata": {
    "scrolled": true
   },
   "outputs": [
    {
     "data": {
      "image/png": "[encoded data removed]",
      "text/plain": [
       "<Figure size 432x288 with 1 Axes>"
      ]
     },
     "metadata": {},
     "output_type": "display_data"
    }
   ],
   "source": [
    "# draw training & validation accuracy\n",
    "\n",
    "plt.clf()\n",
    "acc = history_dict['acc']\n",
    "val_acc = history_dict['val_acc']\n",
    "\n",
    "plt.plot(epochs, acc, 'bo', label='Training Acc')\n",
    "plt.plot(epochs, val_acc, 'b', label='Validation Acc')\n",
    "plt.title('Training and Validation Accuracy')\n",
    "plt.xlabel('Epochs')\n",
    "plt.ylabel('Accuracy')\n",
    "plt.legend()\n",
    "\n",
    "plt.show()"
   ]
  },
  {
   "cell_type": "code",
   "execution_count": null,
   "metadata": {},
   "outputs": [
    {
     "name": "stdout",
     "output_type": "stream",
     "text": [
      "Epoch 1/4\n",
      "25000/25000 [==============================] - 3s 112us/step - loss: 0.4584 - acc: 0.8133\n",
      "Epoch 2/4\n",
      "25000/25000 [==============================] - 3s 102us/step - loss: 0.2630 - acc: 0.9095\n",
      "Epoch 3/4\n",
      " 5120/25000 [=====>........................] - ETA: 2s - loss: 0.1923 - acc: 0.9387"
     ]
    }
   ],
   "source": [
    "# train again!\n",
    "\n",
    "model = models.Sequential()\n",
    "model.add(layers.Dense(16, activation='relu', input_shape=(10000,)))\n",
    "model.add(layers.Dense(16, activation='relu'))\n",
    "model.add(layers.Dense(1, activation='sigmoid'))\n",
    "\n",
    "model.compile(optimizer='rmsprop',\n",
    "             loss='binary_crossentropy',\n",
    "             metrics=['accuracy'])\n",
    "\n",
    "model.fit(x_train, y_train, epochs=4, batch_size=512)\n",
    "results = model.evaluate(x_test, y_test)\n",
    "\n",
    "print(results)"
   ]
  },
  {
   "cell_type": "code",
   "execution_count": null,
   "metadata": {},
   "outputs": [],
   "source": []
  }
 ],
 "metadata": {
  "kernelspec": {
   "display_name": "tensorflow",
   "language": "python",
   "name": "tensorflow"
  },
  "language_info": {
   "codemirror_mode": {
    "name": "ipython",
    "version": 3
   },
   "file_extension": ".py",
   "mimetype": "text/x-python",
   "name": "python",
   "nbconvert_exporter": "python",
   "pygments_lexer": "ipython3",
   "version": "3.7.3"
  }
 },
 "nbformat": 4,
 "nbformat_minor": 2
}
