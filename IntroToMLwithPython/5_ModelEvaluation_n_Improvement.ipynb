{
 "cells": [
  {
   "cell_type": "markdown",
   "metadata": {},
   "source": [
    "# 5. Model Evaluation and Improvement"
   ]
  },
  {
   "cell_type": "code",
   "execution_count": 1,
   "metadata": {},
   "outputs": [
    {
     "name": "stdout",
     "output_type": "stream",
     "text": [
      "Python version: 3.7.0 (default, Aug 22 2018, 15:22:33) \n",
      "[Clang 9.1.0 (clang-902.0.39.2)]\n",
      "pandas version: 0.23.4\n",
      "matplotlib version: 2.2.3\n",
      "numpy version: 1.15.1\n",
      "scipy version: 1.1.0\n",
      "IPython version: 6.5.0\n",
      "scikit-learn version: 0.19.2\n"
     ]
    }
   ],
   "source": [
    "import sys\n",
    "print(\"Python version: {}\".format(sys.version))\n",
    "\n",
    "import pandas as pd\n",
    "print(\"pandas version: {}\".format(pd.__version__))\n",
    "\n",
    "import matplotlib\n",
    "print(\"matplotlib version: {}\".format(matplotlib.__version__))\n",
    "\n",
    "import numpy as np\n",
    "print(\"numpy version: {}\".format(np.__version__))\n",
    "\n",
    "import scipy as sp\n",
    "print(\"scipy version: {}\".format(sp.__version__))\n",
    "\n",
    "import IPython\n",
    "print(\"IPython version: {}\".format(IPython.__version__))\n",
    "\n",
    "import sklearn\n",
    "print(\"scikit-learn version: {}\".format(sklearn.__version__))\n",
    "\n",
    "import matplotlib.pyplot as plt\n",
    "from IPython import display\n",
    "import mglearn"
   ]
  },
  {
   "cell_type": "code",
   "execution_count": 4,
   "metadata": {},
   "outputs": [
    {
     "name": "stdout",
     "output_type": "stream",
     "text": [
      "Test Set Score: 0.88\n"
     ]
    }
   ],
   "source": [
    "from sklearn.datasets import make_blobs\n",
    "from sklearn.linear_model import LogisticRegression\n",
    "from sklearn.model_selection import train_test_split\n",
    "\n",
    "# 인위적인 데이터셋\n",
    "x, y = make_blobs(random_state=0)\n",
    "# 데이터와 타깃 레이블을 훈련 세트와 테스트 세트로 나눕시다.\n",
    "x_train, x_test, y_train, y_test = train_test_split(x, y, random_state=0)\n",
    "# 모델 객체를 만들고 훈련 세트로 학습\n",
    "logreg = LogisticRegression().fit(x_train, y_train)\n",
    "# 모델 평가\n",
    "print(\"Test Set Score: {:.2f}\".format(logreg.score(x_test, y_test)))"
   ]
  },
  {
   "cell_type": "code",
   "execution_count": null,
   "metadata": {},
   "outputs": [],
   "source": []
  }
 ],
 "metadata": {
  "kernelspec": {
   "display_name": "Python 3",
   "language": "python",
   "name": "python3"
  },
  "language_info": {
   "codemirror_mode": {
    "name": "ipython",
    "version": 3
   },
   "file_extension": ".py",
   "mimetype": "text/x-python",
   "name": "python",
   "nbconvert_exporter": "python",
   "pygments_lexer": "ipython3",
   "version": "3.7.0"
  }
 },
 "nbformat": 4,
 "nbformat_minor": 2
}
